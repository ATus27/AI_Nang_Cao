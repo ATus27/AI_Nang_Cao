{
 "cells": [
  {
   "cell_type": "markdown",
   "metadata": {},
   "source": [
    "# Solving the n-Queens Problem using Local Search\n",
    "\n",
    "Student Name: [Add your name]\n",
    "\n",
    "I have used the following AI tools: [list tools]\n",
    "\n",
    "I understand that my submission needs to be my own work: [your initials]\n"
   ]
  },
  {
   "cell_type": "markdown",
   "metadata": {},
   "source": [
    "## Learning Outcomes\n",
    "\n",
    "* Implement multiple hill climbing search variants to solve the n-Queens problem.\n",
    "* Apply simulated annealing with appropriate temperature scheduling to overcome local optima.\n",
    "* Compare algorithm performance using runtime, solution quality, and success rate metrics.\n",
    "* Analyze and visualize algorithm performance across different problem sizes.\n",
    "* Graduate Students: Design and test alternative local move operators to improve search efficiency."
   ]
  },
  {
   "cell_type": "markdown",
   "metadata": {},
   "source": [
    "## Instructions\n",
    "\n",
    "Total Points: Undergrads 100 + 5 bonus / Graduate students 110\n",
    "\n",
    "Complete this notebook. Use the provided notebook cells and insert additional code and markdown cells as needed. Submit the completely rendered notebook as a HTML file. "
   ]
  },
  {
   "cell_type": "markdown",
   "metadata": {},
   "source": [
    "## The n-Queens Problem\n",
    "\n",
    "* __Goal:__ Find an arrangement of $n$ queens on a $n \\times n$ chess board so that no queen is on the same row, column or diagonal as any other queen.\n",
    "\n",
    "* __State space:__ An arrangement of the queens on the board. We restrict the state space to arrangements where there is only a single queen per column. We represent a state as an integer vector $\\mathbf{q} = \\{q_1, q_2, \\dots, q_n\\}$, each number representing the row positions of the queens from left to right. We will call a state a \"board.\"\n",
    "\n",
    "* __Objective function:__ The number of pairwise conflicts (i.e., two queens in the same row/column/diagonal).\n",
    "The optimization problem is to find the optimal arrangement $\\mathbf{q}^*$ of $n$ queens on the board can be written as:\n",
    "\n",
    "  > minimize: $\\mathrm{conflicts}(\\mathbf{q})$\n",
    "  >\n",
    "  > subject to: $\\mathbf{q} \\ \\text{contains only one queen per column}$\n",
    "\n",
    "  Note: the constraint (subject to) is enforced by the definition of the state space.\n",
    "\n",
    "* __Local improvement move:__ Move one queen to a different row in its column.\n",
    "\n",
    "* __Termination:__ For this problem there is always an arrangement $\\mathbf{q}^*$ with $\\mathrm{conflicts}(\\mathbf{q}^*) = 0$, however, the local improvement moves might end up in a local minimum. "
   ]
  },
  {
   "cell_type": "markdown",
   "metadata": {},
   "source": [
    "## Helper functions"
   ]
  },
  {
   "cell_type": "code",
   "execution_count": 2,
   "metadata": {},
   "outputs": [],
   "source": [
    "import numpy as np\n",
    "import matplotlib.pyplot as plt\n",
    "from matplotlib import colors\n",
    "\n",
    "np.random.seed(1234)\n",
    "\n",
    "\n",
    "def random_board(n):\n",
    "    \"\"\"Creates a random board of size n x n. Note that only a single queen is placed in each column!\"\"\"\n",
    "    \n",
    "    return(np.random.randint(0,n, size = n))\n",
    "\n",
    "def comb2(n): return n*(n-1)//2 # this is n choose 2 equivalent to math.comb(n, 2); // is int division\n",
    "\n",
    "def conflicts(board):\n",
    "    \"\"\"Calculate the number of conflicts, i.e., the objective function.\"\"\"\n",
    "\n",
    "    n = len(board)\n",
    "    \n",
    "    horizontal_cnt = [0] * n\n",
    "    diagonal1_cnt = [0] * 2 * n\n",
    "    diagonal2_cnt = [0] * 2 * n\n",
    "    \n",
    "    for i in range(n):\n",
    "        horizontal_cnt[board[i]] += 1\n",
    "        diagonal1_cnt[i + board[i]] += 1\n",
    "        diagonal2_cnt[i - board[i] + n] += 1\n",
    "    \n",
    "    return sum(map(comb2, horizontal_cnt + diagonal1_cnt + diagonal2_cnt))\n",
    "\n",
    "# decrease the font size to fit larger boards\n",
    "def show_board(board, cols = ['white', 'gray'], fontsize = 48):  \n",
    "    \"\"\"display the board\"\"\"\n",
    "    \n",
    "    n = len(board)\n",
    "    \n",
    "    # create chess board display\n",
    "    display = np.zeros([n,n])\n",
    "    for i in range(n):\n",
    "        for j in range(n):\n",
    "            if (((i+j) % 2) != 0): \n",
    "                display[i,j] = 1\n",
    "    \n",
    "    cmap = colors.ListedColormap(cols)\n",
    "    fig, ax = plt.subplots()\n",
    "    ax.imshow(display, cmap = cmap, \n",
    "              norm = colors.BoundaryNorm(range(len(cols)+1), cmap.N))\n",
    "    ax.set_xticks([])\n",
    "    ax.set_yticks([])\n",
    "    \n",
    "    # place queens. Note: Unicode u265B is a black queen\n",
    "    for j in range(n):\n",
    "        plt.text(j, board[j], u\"\\u265B\", fontsize = fontsize, \n",
    "                 horizontalalignment = 'center',\n",
    "                 verticalalignment = 'center')\n",
    "    \n",
    "    print(f\"Board with {conflicts(board)} conflicts.\")\n",
    "    plt.show()"
   ]
  },
  {
   "cell_type": "markdown",
   "metadata": {},
   "source": [
    "## Create a board"
   ]
  },
  {
   "cell_type": "code",
   "execution_count": 3,
   "metadata": {},
   "outputs": [
    {
     "name": "stdout",
     "output_type": "stream",
     "text": [
      "Board with 4 conflicts.\n"
     ]
    },
    {
     "data": {
      "image/png": "[encoded data removed]",
      "text/plain": [
       "<Figure size 640x480 with 1 Axes>"
      ]
     },
     "metadata": {},
     "output_type": "display_data"
    },
    {
     "name": "stdout",
     "output_type": "stream",
     "text": [
      "Queens (left to right) are at rows: [3 3 2 1]\n",
      "Number of conflicts: 4\n"
     ]
    }
   ],
   "source": [
    "board = random_board(4)\n",
    "\n",
    "show_board(board)\n",
    "print(f\"Queens (left to right) are at rows: {board}\")\n",
    "print(f\"Number of conflicts: {conflicts(board)}\")"
   ]
  },
  {
   "cell_type": "markdown",
   "metadata": {},
   "source": [
    "A board $4 \\times 4$ with no conflicts:"
   ]
  },
  {
   "cell_type": "code",
   "execution_count": 4,
   "metadata": {},
   "outputs": [
    {
     "name": "stdout",
     "output_type": "stream",
     "text": [
      "Board with 0 conflicts.\n"
     ]
    },
    {
     "data": {
      "image/png": "[encoded data removed]",
      "text/plain": [
       "<Figure size 640x480 with 1 Axes>"
      ]
     },
     "metadata": {},
     "output_type": "display_data"
    }
   ],
   "source": [
    "board = [1,3,0,2]\n",
    "show_board(board)"
   ]
  },
  {
   "cell_type": "markdown",
   "metadata": {},
   "source": [
    "# Tasks\n",
    "\n",
    "## General [10 Points]\n",
    "\n",
    "1. Make sure that you use the latest version of this notebook. Sync your forked repository and pull the latest revision. \n",
    "2. Your implementation can use libraries like math, numpy, scipy, but not libraries that implement intelligent agents or complete search algorithms. Try to keep the code simple! In this course, we want to learn about the algorithms and we often do not need to use object-oriented design.\n",
    "3. You notebook needs to be formatted professionally. \n",
    "    - Add additional markdown blocks for your description, comments in the code, add tables and use mathplotlib to produce charts where appropriate\n",
    "    - Do not show debugging output or include an excessive amount of output.\n",
    "    - Check that your submitted file is readable and contains all figures.\n",
    "4. Document your code. Use comments in the code and add a discussion of how your implementation works and your design choices."
   ]
  },
  {
   "cell_type": "markdown",
   "metadata": {},
   "source": [
    "## Task 1: Steepest-ascend Hill Climbing Search [20 Points]\n",
    "\n",
    "Calculate the objective function for all local moves (see definition of local moves above) and always choose the best among all local moves. If there are no local moves that improve the objective, then you have reached a local optimum. "
   ]
  },
  {
   "cell_type": "code",
   "execution_count": 5,
   "metadata": {},
   "outputs": [],
   "source": [
    "# Code and description go here"
   ]
  },
  {
   "cell_type": "markdown",
   "metadata": {},
   "source": [
    "## Task 2: Stochastic Hill Climbing 1 [10 Points]\n",
    "\n",
    "Chooses randomly from among all uphill moves till you have reached a local optimum."
   ]
  },
  {
   "cell_type": "code",
   "execution_count": 6,
   "metadata": {},
   "outputs": [],
   "source": [
    "# Code and description go here"
   ]
  },
  {
   "cell_type": "markdown",
   "metadata": {},
   "source": [
    "## Task 3: Stochastic Hill Climbing 2 [20 Points]\n",
    "\n",
    "A popular version of stochastic hill climbing generates only a single random local neighbor at a time and accept it if it has a better objective function value than the current state. This is very efficient if each state has many possible successor states. This method is called \"First-choice hill climbing\" in the textbook.\n",
    "\n",
    "__Notes:__ \n",
    "\n",
    "* Detecting local optima is tricky! You can, for example, stop if you were not able to improve the objective function during the last $x$ tries."
   ]
  },
  {
   "cell_type": "code",
   "execution_count": 7,
   "metadata": {},
   "outputs": [],
   "source": [
    "# Code and description go here"
   ]
  },
  {
   "cell_type": "markdown",
   "metadata": {},
   "source": [
    "## Task 4: Hill Climbing Search with Random Restarts [10 Points]\n",
    "\n",
    "Hill climbing will often end up in local optima. Restart the each of the three hill climbing algorithm up to 100 times with a random board to find a better (hopefully optimal) solution. Note that restart just means to run the algorithm several times starting with a new random board."
   ]
  },
  {
   "cell_type": "code",
   "execution_count": 8,
   "metadata": {},
   "outputs": [
    {
     "name": "stdout",
     "output_type": "stream",
     "text": [
      "Found solution at restart 0, step 5\n",
      "Board with 0 conflicts.\n"
     ]
    },
    {
     "data": {
      "image/png": "[encoded data removed]",
      "text/plain": [
       "<Figure size 640x480 with 1 Axes>"
      ]
     },
     "metadata": {},
     "output_type": "display_data"
    },
    {
     "name": "stdout",
     "output_type": "stream",
     "text": [
      "elapsed_time:0.04902911186218262[sec]\n",
      "Found solution at restart 0, step 2\n",
      "Board with 0 conflicts.\n"
     ]
    },
    {
     "data": {
      "image/png": "[encoded data removed]",
      "text/plain": [
       "<Figure size 640x480 with 1 Axes>"
      ]
     },
     "metadata": {},
     "output_type": "display_data"
    },
    {
     "name": "stdout",
     "output_type": "stream",
     "text": [
      "elapsed_time:0.029561281204223633[sec]\n"
     ]
    }
   ],
   "source": [
    "# Code and description go here\n",
    "# Tú generate function\n",
    "import time\n",
    "def get_neighbours(board):\n",
    "    \"\"\"Sinh tất cả láng giềng bằng cách di chuyển 1 quân hậu trong cột khác hàng\"\"\"\n",
    "    n = len(board)\n",
    "    neighbors = []\n",
    "    for col in range(n):\n",
    "        for row in range(n):\n",
    "            if board[col] != row:  # chỉ thay đổi nếu khác hàng\n",
    "                new_board = board.copy()\n",
    "                new_board[col] = row\n",
    "                neighbors.append(new_board)\n",
    "    return neighbors\n",
    "\n",
    "def random_restart_hill_climbing(n, max_restarts=100, max_steps=1000, show=False):\n",
    "    best_board = None\n",
    "    best_conf = float(\"inf\")\n",
    "\n",
    "    for restart in range(max_restarts):\n",
    "        board = random_board(n)\n",
    "        current_board = board.copy()\n",
    "        current_conf = conflicts(current_board)\n",
    "\n",
    "        for step in range(max_steps):\n",
    "            if current_conf == 0:\n",
    "                print(f\"Found solution at restart {restart}, step {step}\")\n",
    "                if show: show_board(current_board)\n",
    "                return current_board\n",
    "\n",
    "            neighbors = get_neighbours(current_board)\n",
    "            neighbor_conflicts = [conflicts(nb) for nb in neighbors]\n",
    "\n",
    "            min_conf = min(neighbor_conflicts)\n",
    "            if min_conf >= current_conf:\n",
    "                break  # mắc kẹt → restart mới\n",
    "\n",
    "            best_neighbor = neighbors[neighbor_conflicts.index(min_conf)]\n",
    "            current_board = best_neighbor\n",
    "            current_conf = min_conf\n",
    "\n",
    "        # lưu nghiệm tốt nhất trong trường hợp không tìm được nghiệm hoàn hảo\n",
    "        if current_conf < best_conf:\n",
    "            best_conf = current_conf\n",
    "            best_board = current_board\n",
    "\n",
    "    print(f\"No perfect solution found after {max_restarts} restarts. Best conflicts = {best_conf}\")\n",
    "    if show and best_board is not None:\n",
    "        show_board(best_board)\n",
    "    return best_board\n",
    "start1 = time.time()\n",
    "solution = random_restart_hill_climbing(8, max_restarts=100, show=True)\n",
    "end1 = time.time()\n",
    "elapsed_time1 = end1 - start1\n",
    "print (\"elapsed_time:{0}\".format(elapsed_time1) + \"[sec]\")\n",
    "start2 = time.time()\n",
    "solution2 = random_restart_hill_climbing(4,max_restarts=100, show=True)\n",
    "end2 = time.time()\n",
    "elapsed_time2 = end2 - start2\n",
    "print (\"elapsed_time:{0}\".format(elapsed_time2) + \"[sec]\")"
   ]
  },
  {
   "cell_type": "markdown",
   "metadata": {},
   "source": [
    "## Task 5: Simulated Annealing [10 Points]\n",
    "\n",
    "Simulated annealing is a form of stochastic hill climbing that avoid local optima by also allowing downhill moves with a probability proportional to a temperature. The temperature is decreased in every iteration following an annealing schedule. You have to experiment with the annealing schedule (Google to find guidance on this).\n",
    "\n",
    "\n",
    "1. Implement simulated annealing for the n-Queens problem.\n",
    "2. Create a visualization of the search process (a line chart of how the number if conflict changes as the algorithm progrsses).\n",
    "3. Use this visualization for experiments with different choices for the annealing schedule and discuss what you have learned."
   ]
  },
  {
   "cell_type": "code",
   "execution_count": 9,
   "metadata": {},
   "outputs": [
    {
     "name": "stdout",
     "output_type": "stream",
     "text": [
      "Board with 0 conflicts.\n"
     ]
    },
    {
     "data": {
      "image/png": "[encoded data removed]",
      "text/plain": [
       "<Figure size 640x480 with 1 Axes>"
      ]
     },
     "metadata": {},
     "output_type": "display_data"
    },
    {
     "name": "stdout",
     "output_type": "stream",
     "text": [
      "Finished after 553 steps, conflicts = 0\n",
      "elapsed_time:0.09915423393249512[sec]\n",
      "Board with 0 conflicts.\n"
     ]
    },
    {
     "data": {
      "image/png": "[encoded data removed]",
      "text/plain": [
       "<Figure size 640x480 with 1 Axes>"
      ]
     },
     "metadata": {},
     "output_type": "display_data"
    },
    {
     "name": "stdout",
     "output_type": "stream",
     "text": [
      "Finished after 62 steps, conflicts = 0\n",
      "elapsed_time:0.043938636779785156[sec]\n"
     ]
    }
   ],
   "source": [
    "# Code and description go here\n",
    "import time\n",
    "import math \n",
    "import random\n",
    "import numpy as np\n",
    "\n",
    "def get_neighbours(board):\n",
    "    \"\"\"Sinh tất cả láng giềng bằng cách di chuyển 1 quân hậu trong cột khác hàng\"\"\"\n",
    "    n = len(board)\n",
    "    neighbors = []\n",
    "    for col in range(n):\n",
    "        for row in range(n):\n",
    "            if board[col] != row:  # chỉ thay đổi nếu khác hàng\n",
    "                new_board = board.copy()\n",
    "                new_board[col] = row\n",
    "                neighbors.append(new_board)\n",
    "    return neighbors\n",
    "def neighbour(board):\n",
    "    \"\"\"Chọn ngẫu nhiên một láng giềng từ danh sách tất cả các láng giềng\"\"\"\n",
    "    neighbors = get_neighbours(board)\n",
    "    return random.choice(neighbors)\n",
    "def tempestimation(board, E, m=1000):\n",
    "    values = []\n",
    "    for _ in range(m):\n",
    "        nb = neighbour(board)\n",
    "        values.append(E(nb))\n",
    "    mean_val = np.mean(values)\n",
    "    variance = np.mean([(x - mean_val) ** 2 for x in values])\n",
    "    std_dev = math.sqrt(variance)\n",
    "    return std_dev if std_dev > 0 else 1.0\n",
    "\n",
    "def simulated_annealing(n, kmax=10000, alpha=0.95, show=False):\n",
    "    # trạng thái ban đầu\n",
    "    s = random_board(n)\n",
    "    e = conflicts(s)\n",
    "    emax = 0   # nghiệm lý tưởng là không xung đột\n",
    "    k = 0\n",
    "\n",
    "    # nhiệt độ ban đầu\n",
    "    T = tempestimation(s, conflicts)\n",
    "\n",
    "    while k < kmax and e > emax:\n",
    "        sn = neighbour(s)\n",
    "        en = conflicts(sn)\n",
    "\n",
    "        # xác suất chấp nhận\n",
    "        if en < e:\n",
    "            accept = True\n",
    "        else:\n",
    "            prob = math.exp((e - en) / T)\n",
    "            accept = (random.random() < prob)\n",
    "\n",
    "        if accept:\n",
    "            s, e = sn, en\n",
    "\n",
    "        # giảm nhiệt độ\n",
    "        T = alpha * T\n",
    "        k += 1\n",
    "\n",
    "    if show:\n",
    "        show_board(s)\n",
    "    print(f\"Finished after {k} steps, conflicts = {e}\")\n",
    "    return s\n",
    "start1 = time.time()\n",
    "solution = simulated_annealing(8, show=True)\n",
    "end1 = time.time()\n",
    "elapsed_time1 = end1 - start1\n",
    "print (\"elapsed_time:{0}\".format(elapsed_time1) + \"[sec]\")\n",
    "\n",
    "start2 = time.time()\n",
    "solution2 = simulated_annealing(4,show=True)\n",
    "end2 = time.time()\n",
    "elapsed_time2 = end2 - start2\n",
    "print (\"elapsed_time:{0}\".format(elapsed_time2) + \"[sec]\")"
   ]
  },
  {
   "cell_type": "markdown",
   "metadata": {},
   "source": [
    "## Task 6: Algorithm Behavior Analysis [20 Points]\n",
    "\n",
    "### Comparison\n",
    "Compare the algorithm using runtime and objective function values. Use boards of size 4 and 8 to explore how the different algorithms perform. Make sure that you run the algorithms for each board size several times (at least 100 times) with different starting boards and report averages.\n",
    "\n",
    "Complete the following table\n",
    "\n",
    "| Algorithm           | Board size | Avg. Run time | Avg. number of conflicts | % of runs ending in optimal solution  |\n",
    "| ------------------- | ---------- | ------------- | --------------------------------- | - |\n",
    "| Steepest asc. HC    |     4      |               |                                   |   |\n",
    "| Stochastic HC 1     |     4      |               |                                   |   |\n",
    "| Stochastic HC 2     |     4      |               |                                   |   |\n",
    "| Simulated Annealing |     4      |               |                                  |   |\n",
    "| Steepest asc. HC    |     8      |               |                                   |   |\n",
    "| Stochastic HC 1     |     8      |               |                                   |   |\n",
    "| Stochastic HC 2     |     8      |               |                                   |   |\n",
    "| Simulated Annealing |     8      |               |                                |   |\n",
    "\n",
    "Hint: See [Profiling Python Code](../HOWTOs/profiling_code.ipynb) for help about how to measure runtime in Python.\n",
    "\n",
    "Add the used code here:"
   ]
  },
  {
   "cell_type": "code",
   "execution_count": 10,
   "metadata": {},
   "outputs": [
    {
     "name": "stdout",
     "output_type": "stream",
     "text": [
      "\n",
      "Board size 4\n",
      "Simulated Annealing  | Time: 0.0115s | Avg Conflicts: 0.00 | Success: 100.0%\n",
      "\n",
      "Board size 8\n",
      "Simulated Annealing  | Time: 0.0596s | Avg Conflicts: 0.01 | Success: 99.0%\n"
     ]
    }
   ],
   "source": [
    "# Code\n",
    "# Code\n",
    "#Tài thêm code của các hàm chạy như hàm simulated vào đây\n",
    "     #\"Steepest asc. HC\": steepest_ascent_hc,\n",
    "    #\"Stochastic HC 1\": stochastic_hc1,\n",
    "    #\"Stochastic HC 2\": stochastic_hc2,\n",
    "def simulated_annealing_run(n, kmax=10000, alpha=0.95):\n",
    "    board = random_board(n)\n",
    "    e = conflicts(board)\n",
    "    emax = 0\n",
    "    k = 0\n",
    "    T = tempestimation(board, conflicts)\n",
    "    while k < kmax and e > emax:\n",
    "        sn = neighbour(board)\n",
    "        en = conflicts(sn)\n",
    "        if en < e:\n",
    "            board, e = sn, en\n",
    "        else:\n",
    "            prob = math.exp((e - en) / T)\n",
    "            if random.random() < prob:\n",
    "                board, e = sn, en\n",
    "        T = alpha * T\n",
    "        k += 1\n",
    "    return board, e\n",
    "def benchmark(algorithm, n, runs=100):\n",
    "    times = []\n",
    "    conflicts_list = []\n",
    "    successes = 0\n",
    "\n",
    "    for _ in range(runs):\n",
    "        start = time.time()\n",
    "        board, conf = algorithm(n)\n",
    "        end = time.time()\n",
    "\n",
    "        times.append(end - start)\n",
    "        conflicts_list.append(conf)\n",
    "        if conf == 0:\n",
    "            successes += 1\n",
    "\n",
    "    avg_time = np.mean(times)\n",
    "    avg_conflicts = np.mean(conflicts_list)\n",
    "    success_rate = (successes / runs) * 100\n",
    "    return avg_time, avg_conflicts, success_rate\n",
    "\n",
    "algorithms = {\n",
    "    #\"Steepest asc. HC\": steepest_ascent_hc,\n",
    "    #\"Stochastic HC 1\": stochastic_hc1,\n",
    "    #\"Stochastic HC 2\": stochastic_hc2,\n",
    "    \"Simulated Annealing\": simulated_annealing_run\n",
    "}\n",
    "\n",
    "for n in [4, 8]:\n",
    "    print(f\"\\nBoard size {n}\")\n",
    "    for name, algo in algorithms.items():\n",
    "        avg_time, avg_conflicts, success_rate = benchmark(algo, n, runs=100)\n",
    "        print(f\"{name:20s} | Time: {avg_time:.4f}s | Avg Conflicts: {avg_conflicts:.2f} | Success: {success_rate:.1f}%\")\n"
   ]
  },
  {
   "cell_type": "markdown",
   "metadata": {},
   "source": [
    "### Algorithm Convergence\n",
    "\n",
    "For each algorithm implemented, describe the typical convergence pattern (fast initial improvement vs. steady progress).\n",
    "Include a plot showing the objective function value over iterations for one representative run of each algorithm on the 8-queens problem.\n",
    "Explain which algorithms exhibit plateaus or getting stuck in local optima most frequently."
   ]
  },
  {
   "cell_type": "markdown",
   "metadata": {},
   "source": []
  },
  {
   "cell_type": "markdown",
   "metadata": {},
   "source": [
    "Simulated Annealing\n",
    "\n",
    "Mẫu hội tụ:\n",
    "\n",
    "Ban đầu: tiến bộ không ổn định, có lúc nhận trạng thái tệ hơn do xác suất > 0.\n",
    "\n",
    "Sau đó: khi nhiệt độ giảm dần, thuật toán trở nên giống HC, hội tụ về nghiệm.\n",
    "\n",
    "Đặc trưng: thường giải được 8-queens khá ổn định, ít bị kẹt ở local minima nhờ bước “chấp nhận tệ hơn”."
   ]
  },
  {
   "cell_type": "code",
   "execution_count": 11,
   "metadata": {},
   "outputs": [
    {
     "data": {
      "image/png": "[encoded data removed]",
      "text/plain": [
       "<Figure size 640x480 with 1 Axes>"
      ]
     },
     "metadata": {},
     "output_type": "display_data"
    }
   ],
   "source": [
    "# Code and description go here\n",
    "import matplotlib.pyplot as plt\n",
    "\n",
    "def track_conflicts_hc(n, max_steps=1000):\n",
    "    board = random_board(n)\n",
    "    current_conf = conflicts(board)\n",
    "    history = [current_conf]\n",
    "    steps = 0\n",
    "    while steps < max_steps and current_conf > 0:\n",
    "        neighbors = get_neighbours(board)\n",
    "        neighbor_conflicts = [conflicts(nb) for nb in neighbors]\n",
    "        min_conf = min(neighbor_conflicts)\n",
    "        if min_conf >= current_conf:\n",
    "            break\n",
    "        best_neighbor = neighbors[neighbor_conflicts.index(min_conf)]\n",
    "        board = best_neighbor\n",
    "        current_conf = min_conf\n",
    "        history.append(current_conf)\n",
    "        steps += 1\n",
    "    return history\n",
    "\n",
    "def track_conflicts_sa(n, kmax=1000, alpha=0.95):\n",
    "    s = random_board(n)\n",
    "    e = conflicts(s)\n",
    "    history = [e]\n",
    "    k = 0\n",
    "    T = tempestimation(s, conflicts)\n",
    "    while k < kmax and e > 0:\n",
    "        sn = neighbour(s)\n",
    "        en = conflicts(sn)\n",
    "        if en < e:\n",
    "            s, e = sn, en\n",
    "        else:\n",
    "            prob = math.exp((e - en) / T)\n",
    "            if random.random() < prob:\n",
    "                s, e = sn, en\n",
    "        history.append(e)\n",
    "        T = alpha * T\n",
    "        k += 1\n",
    "    return history\n",
    "\n",
    "# chạy một lần mỗi thuật toán cho N=8\n",
    "#hc_hist = track_conflicts_hc(8)\n",
    "sa_hist = track_conflicts_sa(8)\n",
    "\n",
    "# vẽ\n",
    "#plt.plot(hc_hist, label=\"Steepest HC\")\n",
    "plt.plot(sa_hist, label=\"Simulated Annealing\")\n",
    "plt.xlabel(\"Iterations\")\n",
    "plt.ylabel(\"Conflicts\")\n",
    "plt.title(\"Algorithm Convergence on 8-Queens\")\n",
    "plt.legend()\n",
    "plt.show()\n"
   ]
  },
  {
   "cell_type": "markdown",
   "metadata": {},
   "source": [
    "### Problem Size Scalability\n",
    "\n",
    "Create a log-log plot showing how runtime scales with board size ($n=4, 8, 12, 16, 20$) for at least two algorithms.\n",
    "Estimate the empirical time complexity (Big O) for each algorithm based on your results.\n",
    "Identify which algorithm scales best for large problem sizes and explain why."
   ]
  },
  {
   "cell_type": "code",
   "execution_count": 12,
   "metadata": {},
   "outputs": [],
   "source": [
    "# Code and description go here"
   ]
  },
  {
   "cell_type": "markdown",
   "metadata": {},
   "source": [
    "Hill Climbing (HC): mỗi bước xét neighbor. Nếu dùng stochastic HC (chọn 1 neighbor ngẫu nhiên), mỗi bước là O(1), nhưng số bước có thể tăng với n → runtime thực nghiệm thường gần O(n^2) hoặc thấp hơn.\n",
    "\n",
    "Simulated Annealing (SA): chạy nhiều bước (kmax cố định, thường tỉ lệ với n^2), mỗi bước O(1) → thời gian thực nghiệm gần O(n^2).\n",
    "\n",
    "So sánh:\n",
    "\n",
    "SA thường có slope cao hơn một chút (vì nó làm nhiều bước hơn, kể cả bước \"xấu\").\n",
    "\n",
    "HC scale tốt hơn khi n lớn vì dừng sớm nếu kẹt ở local optimum."
   ]
  },
  {
   "cell_type": "markdown",
   "metadata": {},
   "source": [
    "## Advanced task: Exploring other Local Moves Operators\n",
    "\n",
    "* __Graduate students__ need to complete this task [10 points]\n",
    "* __Undergraduate students__ can attempt this as a bonus task [max +5 bonus points].\n",
    "\n",
    "### Move Operator Implementation \n",
    "\n",
    "Implement the following local move operators:\n",
    "\n",
    "* Single-step move: Move one queen only one square up or down at a time\n",
    "* Column swap: Exchange the positions of queens in two randomly selected columns\n",
    "* Dual-queen move: Select two queens and move both simultaneously\n",
    "* Adaptive move: Design your own operator that adapts which local move it uses based on the current state (e.g., focuses on queens with most conflicts or randomly chooses one of the moves above)\n",
    "\n",
    "### Experimental Analysis\n",
    "\n",
    "Using the 8-Queens and 12-Queens problems: Run your Stochastic Hill Climbing 2 implementation with each move operator 100 times\n",
    "For each operator, create a visualization showing:\n",
    "\n",
    "* Average solution quality over iterations\n",
    "* Distribution of final solution qualities\n",
    "* Average time to solution for successful runs\n",
    "\n",
    "### Discussion\n",
    "\n",
    "Describe what you have learned from the experiments. Which operator works best for which situation and why?"
   ]
  },
  {
   "cell_type": "code",
   "execution_count": 13,
   "metadata": {
    "tags": []
   },
   "outputs": [],
   "source": [
    "# Code and description go here"
   ]
  },
  {
   "cell_type": "markdown",
   "metadata": {},
   "source": [
    "## More Things to Do (not for credit)\n",
    "\n",
    "If the assignment was to easy for yuo then you can think about the following problems. These problems are challenging and not part of this assignment. \n",
    "\n",
    "### Implement a Genetic Algorithm for the n-Queens problem"
   ]
  },
  {
   "cell_type": "code",
   "execution_count": 14,
   "metadata": {
    "tags": []
   },
   "outputs": [],
   "source": [
    "# Code and description go here"
   ]
  }
 ],
 "metadata": {
  "kernelspec": {
   "display_name": "base",
   "language": "python",
   "name": "python3"
  },
  "language_info": {
   "codemirror_mode": {
    "name": "ipython",
    "version": 3
   },
   "file_extension": ".py",
   "mimetype": "text/x-python",
   "name": "python",
   "nbconvert_exporter": "python",
   "pygments_lexer": "ipython3",
   "version": "3.13.5"
  },
  "toc-autonumbering": false,
  "toc-showcode": false,
  "toc-showmarkdowntxt": false,
  "toc-showtags": false
 },
 "nbformat": 4,
 "nbformat_minor": 4
}
